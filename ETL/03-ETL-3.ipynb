{
 "cells": [
  {
   "cell_type": "code",
   "execution_count": 2,
   "metadata": {},
   "outputs": [],
   "source": [
    "import pandas as pd\n",
    "import requests\n",
    "import ast\n",
    "from datetime import datetime, timedelta"
   ]
  },
  {
   "attachments": {},
   "cell_type": "markdown",
   "metadata": {},
   "source": [
    "# Pair Programming ETL Transformación II\n",
    "\n",
    "En la lección de hoy aprendimos como Crearnos una clase que nos permita limpiar los datos obtenidos de la API.\n",
    "\n",
    "En este ejercicio, tendréis que crear una clase con el código que usamos en los ejercicios de pair programming de ETL Transformación I y II."
   ]
  },
  {
   "cell_type": "code",
   "execution_count": null,
   "metadata": {},
   "outputs": [],
   "source": [
    "class Extraccion:\n",
    "        def __init__(self, dicc):\n",
    "    \n",
    "            self.dicc = dicc\n",
    "        \n",
    "        def llamada_API(self, producto):\n",
    "\n",
    "            self.producto = producto\n",
    "            #Iteramos por el diccionario en busca de nuestros valores\n",
    "            lista_dataframes = []\n",
    "            for k, v in self.dicc.items():\n",
    "                lat = v[0]\n",
    "                lon = v[1]\n",
    "            # hacemos la llamada  a la API\n",
    "                url = f'http://www.7timer.info/bin/api.pl?lon=-{lon}&lat={lat}&product={producto}&output=json'\n",
    "                \n",
    "                response = requests.get(url=url)\n",
    "                codigo_estado = response.status_code\n",
    "                razon_estado = response.reason\n",
    "            # Ponemos esto para comprobar si todo está correcto.    \n",
    "                if codigo_estado == 200:\n",
    "                    print('La peticion de se ha realizado correctamente, se ha devuelto el código de estado:',codigo_estado,' y como razón del código de estado: ',razon_estado)\n",
    "                elif codigo_estado == 402:\n",
    "                    print('No se ha podido autorizar usuario, se ha devuelto el código de estado:', codigo_estado,' y como razón del código de estado: ',razon_estado)\n",
    "                elif codigo_estado == 404:\n",
    "                    print('Algo ha salido mal, el recurso no se ha encontrado,se ha devuelto el código de estado:', codigo_estado,' y como razón del código de estado: ',razon_estado)\n",
    "                else:\n",
    "                    print('Algo inesperado ha ocurrido, se ha devuelto el código de estado:', codigo_estado,' y como razón del código de estado: ',razon_estado)\n",
    "                \n",
    "            # convertimos los resultados en un dataframe:\n",
    "                df = pd.DataFrame.from_dict(pd.json_normalize(response.json()['dataseries']))\n",
    "            # Creamos columnas con el nombre del pais, la latitud y la longitud para poder hacer la union.\n",
    "                df[\"country\"] = k\n",
    "                df[\"latitud\"] = lat\n",
    "                df[\"longitud\"] = lon\n",
    "\n",
    "                # Apendeamos el dataframe en una lista que hemos creado\n",
    "                lista_dataframes.append(df)\n",
    "    \n",
    "            # juntamos todos los dataframes\n",
    "            data = pd.concat(lista_dataframes, axis= 0, ignore_index= True)\n",
    "            return data\n",
    "\n",
    "        def separar_lista_df(self,df,col):\n",
    "            self.df = df\n",
    "            self.col = col\n",
    "\n",
    "            df[col] = df[col].apply(ast.literal_eval)\n",
    "            df_final = df[col].apply(pd.Series)\n",
    "            return df\n",
    "    \n",
    "        \n",
    "        def desempaquetar(self,df,df_inicial):\n",
    "            self.df = df\n",
    "            self.df_inicial = df_inicial\n",
    "\n",
    "            df_elegido = input('¿Cual es tu dataframe?')\n",
    "            if df_elegido == 'wind':\n",
    "                variable = input ('¿Cual tu parametro?')\n",
    "                for i in range(len(df.columns)):\n",
    "                    # Hacemos lo mismo para speed\n",
    "                    nombre2= f'{df_elegido}_{variable}' + str(df[i].apply(pd.Series)[\"layer\"][0])\n",
    "                    valores2 = list(df[i].apply(pd.Series)[variable])\n",
    "                    # usamos el método insert de los dataframes para ir añadiendo esta información a el dataframe con la información del clima.\n",
    "                    df_inicial.insert(i, nombre2, valores2)\n",
    "            else: \n",
    "\n",
    "\n",
    "\n"
   ]
  }
 ],
 "metadata": {
  "kernelspec": {
   "display_name": "base",
   "language": "python",
   "name": "python3"
  },
  "language_info": {
   "codemirror_mode": {
    "name": "ipython",
    "version": 3
   },
   "file_extension": ".py",
   "mimetype": "text/x-python",
   "name": "python",
   "nbconvert_exporter": "python",
   "pygments_lexer": "ipython3",
   "version": "3.9.7"
  },
  "orig_nbformat": 4,
  "vscode": {
   "interpreter": {
    "hash": "f8e782a3a92a384869fb83a8974812ed4d4d199ed3e8c8704ecd8a7536d7fad4"
   }
  }
 },
 "nbformat": 4,
 "nbformat_minor": 2
}
