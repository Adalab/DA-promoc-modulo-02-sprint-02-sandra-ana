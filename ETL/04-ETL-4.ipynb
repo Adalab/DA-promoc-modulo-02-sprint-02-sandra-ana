{
 "cells": [
  {
   "cell_type": "code",
   "execution_count": 49,
   "metadata": {},
   "outputs": [],
   "source": [
    "import pandas as pd\n",
    "import mysql.connector"
   ]
  },
  {
   "cell_type": "code",
   "execution_count": 50,
   "metadata": {},
   "outputs": [],
   "source": [
    "df_ataques = pd.read_csv(\"../data/04-tiburon_4.csv\", index_col = 0)"
   ]
  },
  {
   "cell_type": "code",
   "execution_count": 51,
   "metadata": {},
   "outputs": [],
   "source": [
    "df_climas = pd.read_csv(\"../data/00-datos_clima.csv\", index_col= 0)"
   ]
  },
  {
   "attachments": {},
   "cell_type": "markdown",
   "metadata": {},
   "source": [
    "# Pair Programming ETL Carga I\n",
    "\n",
    "Es el momento de meter todos nuestros datos en SQL 💪🏽!!! En este ejercicio nos crearemos dos tablas en una BBDD creada por nosotras. Una de las tablas contendrá la información que obtuvimos de los ejercicios de pair programming de Limpieza, es decir, el data set de ataques de tiburones limpito. La segunda tabla tendrá la información obtenida en el ejercicio de pair de ETL 1.\n",
    "\n",
    "📌 Nota Todo lo tendremos que hacer desde jupyter notebook"
   ]
  },
  {
   "attachments": {},
   "cell_type": "markdown",
   "metadata": {},
   "source": [
    "1. Cread la BBDD con el nombre de tiburones."
   ]
  },
  {
   "attachments": {},
   "cell_type": "markdown",
   "metadata": {},
   "source": [
    "2. Cread las tablas de la BBDD:\n",
    "    - Tabla ataques\n",
    "    - Tabla clima"
   ]
  },
  {
   "attachments": {},
   "cell_type": "markdown",
   "metadata": {},
   "source": [
    "3. BONUS Insertar los datos en las tablas.\n",
    "📌 Nota Esta parte del pair es optativa y no será considerada para la evaluación\n",
    "\n",
    "🚨 En caso de que no tengáis los datos unidos de la sesión anterior, tenéis un csv datos_union_clima_ataques con todos los datos que necesitareis para este ejercicio"
   ]
  },
  {
   "attachments": {},
   "cell_type": "markdown",
   "metadata": {},
   "source": [
    "Creamos una base de datos que se llame Tiburones"
   ]
  },
  {
   "cell_type": "code",
   "execution_count": 52,
   "metadata": {},
   "outputs": [],
   "source": [
    "# Creamos la función para crear la base de datos\n",
    "def crear_bbdd(nombre_bbdd):\n",
    "\n",
    "    mydb = mysql.connector.connect(\n",
    "      host=\"localhost\",\n",
    "      user=\"root\",\n",
    "      password='AlumnaAdalab' \n",
    "    )\n",
    "    print(\"Conexión realizada con éxito\")\n",
    "    \n",
    "    mycursor = mydb.cursor()\n",
    "\n",
    "    try:\n",
    "        mycursor.execute(f\"CREATE DATABASE IF NOT EXISTS {nombre_bbdd};\")\n",
    "        print(mycursor)\n",
    "    except mysql.connector.Error as err:\n",
    "        print(err)\n",
    "        print(\"Error Code:\", err.errno)\n",
    "        print(\"SQLSTATE\", err.sqlstate)\n",
    "        print(\"Message\", err.msg)"
   ]
  },
  {
   "cell_type": "code",
   "execution_count": 53,
   "metadata": {},
   "outputs": [
    {
     "name": "stdout",
     "output_type": "stream",
     "text": [
      "Conexión realizada con éxito\n",
      "CMySQLCursor: CREATE DATABASE IF NOT EXISTS tiburones;\n"
     ]
    }
   ],
   "source": [
    "mydb = crear_bbdd(\"tiburones\")"
   ]
  },
  {
   "cell_type": "code",
   "execution_count": 54,
   "metadata": {},
   "outputs": [],
   "source": [
    "# Creamos la función para crear las tablas\n",
    "def crear_insertar_tabla(nombre_bbdd, contraseña, query):\n",
    "    \n",
    "    # nos conectamsos con el servidor usando el conector de sql\n",
    "    cnx = mysql.connector.connect(user='root', password=f\"{contraseña}\",\n",
    "                                     host='127.0.0.1', database=f\"{nombre_bbdd}\")\n",
    "    # iniciamos el cursor\n",
    "    mycursor = cnx.cursor()\n",
    "    \n",
    "    # intentamos hacer la query\n",
    "    try: \n",
    "        mycursor.execute(query)\n",
    "        cnx.commit() \n",
    "    # en caso de que podamos ejecutar la query devuelvenos un error para saber en que nos estamos equivocando\n",
    "    except mysql.connector.Error as err:\n",
    "        print(err)\n",
    "        print(\"Error Code:\", err.errno)\n",
    "        print(\"SQLSTATE\", err.sqlstate)\n",
    "        print(\"Message\", err.msg)"
   ]
  },
  {
   "cell_type": "code",
   "execution_count": 55,
   "metadata": {},
   "outputs": [
    {
     "name": "stdout",
     "output_type": "stream",
     "text": [
      "<class 'pandas.core.frame.DataFrame'>\n",
      "Int64Index: 1669 entries, 0 to 1671\n",
      "Data columns (total 9 columns):\n",
      " #   Column    Non-Null Count  Dtype  \n",
      "---  ------    --------------  -----  \n",
      " 0   year      1669 non-null   int64  \n",
      " 1   type      1669 non-null   object \n",
      " 2   country   1669 non-null   object \n",
      " 3   activity  1638 non-null   object \n",
      " 4   age       1669 non-null   float64\n",
      " 5   species_  1669 non-null   object \n",
      " 6   mes       1669 non-null   object \n",
      " 7   deceso    1669 non-null   object \n",
      " 8   genero    1655 non-null   object \n",
      "dtypes: float64(1), int64(1), object(7)\n",
      "memory usage: 130.4+ KB\n"
     ]
    }
   ],
   "source": [
    "df_ataques.info()"
   ]
  },
  {
   "cell_type": "code",
   "execution_count": 56,
   "metadata": {},
   "outputs": [
    {
     "data": {
      "text/plain": [
       "year         0\n",
       "type         0\n",
       "country      0\n",
       "activity    31\n",
       "age          0\n",
       "species_     0\n",
       "mes          0\n",
       "deceso       0\n",
       "genero      14\n",
       "dtype: int64"
      ]
     },
     "execution_count": 56,
     "metadata": {},
     "output_type": "execute_result"
    }
   ],
   "source": [
    "df_ataques.isnull().sum()"
   ]
  },
  {
   "cell_type": "code",
   "execution_count": 57,
   "metadata": {},
   "outputs": [],
   "source": [
    "# Observamos que tenemos nulos, los sustituimos por desconocido\n",
    "df_ataques['genero'].fillna('Unknow', inplace= True)\n",
    "df_ataques['activity'].fillna('Unknow', inplace= True)"
   ]
  },
  {
   "cell_type": "code",
   "execution_count": 58,
   "metadata": {},
   "outputs": [
    {
     "data": {
      "text/plain": [
       "year        0\n",
       "type        0\n",
       "country     0\n",
       "activity    0\n",
       "age         0\n",
       "species_    0\n",
       "mes         0\n",
       "deceso      0\n",
       "genero      0\n",
       "dtype: int64"
      ]
     },
     "execution_count": 58,
     "metadata": {},
     "output_type": "execute_result"
    }
   ],
   "source": [
    "df_ataques.isnull().sum()"
   ]
  },
  {
   "cell_type": "code",
   "execution_count": 59,
   "metadata": {},
   "outputs": [
    {
     "name": "stdout",
     "output_type": "stream",
     "text": [
      "<class 'pandas.core.frame.DataFrame'>\n",
      "Int64Index: 1669 entries, 0 to 1671\n",
      "Data columns (total 9 columns):\n",
      " #   Column    Non-Null Count  Dtype  \n",
      "---  ------    --------------  -----  \n",
      " 0   year      1669 non-null   int64  \n",
      " 1   type      1669 non-null   object \n",
      " 2   country   1669 non-null   object \n",
      " 3   activity  1669 non-null   object \n",
      " 4   age       1669 non-null   float64\n",
      " 5   species_  1669 non-null   object \n",
      " 6   mes       1669 non-null   object \n",
      " 7   deceso    1669 non-null   object \n",
      " 8   genero    1669 non-null   object \n",
      "dtypes: float64(1), int64(1), object(7)\n",
      "memory usage: 130.4+ KB\n"
     ]
    }
   ],
   "source": [
    "df_ataques.info()"
   ]
  },
  {
   "cell_type": "code",
   "execution_count": 60,
   "metadata": {},
   "outputs": [],
   "source": [
    "tabla_ataques = '''\n",
    "CREATE TABLE IF NOT EXISTS `tiburones`.`ataques` (\n",
    "  `id_ataques` INT NOT NULL AUTO_INCREMENT,\n",
    "  `year` INT NOT NULL,\n",
    "  `type`VARCHAR (225) NOT NULL,\n",
    "  `country` VARCHAR (225) NOT NULL,\n",
    "  `activity` VARCHAR (225) NOT NULL,\n",
    "  `age` FLOAT NOT NULL,\n",
    "  `species_` VARCHAR (225) NOT NULL,\n",
    "  `mes` VARCHAR (45) NOT NULL,\n",
    "  `deceso` VARCHAR (45) NOT NULL,\n",
    "  `genero` VARCHAR (45) NOT NULL,\n",
    "  PRIMARY KEY (`id_ataques`))\n",
    "ENGINE = InnoDB;\n",
    "'''"
   ]
  },
  {
   "cell_type": "code",
   "execution_count": 61,
   "metadata": {},
   "outputs": [
    {
     "name": "stdout",
     "output_type": "stream",
     "text": [
      "<class 'pandas.core.frame.DataFrame'>\n",
      "Int64Index: 320 entries, 0 to 319\n",
      "Data columns (total 19 columns):\n",
      " #   Column             Non-Null Count  Dtype  \n",
      "---  ------             --------------  -----  \n",
      " 0   timepoint          320 non-null    int64  \n",
      " 1   cloudcover         320 non-null    int64  \n",
      " 2   highcloud          320 non-null    int64  \n",
      " 3   midcloud           320 non-null    int64  \n",
      " 4   lowcloud           320 non-null    int64  \n",
      " 5   rh_profile         320 non-null    object \n",
      " 6   wind_profile       320 non-null    object \n",
      " 7   temp2m             320 non-null    int64  \n",
      " 8   lifted_index       320 non-null    int64  \n",
      " 9   rh2m               320 non-null    int64  \n",
      " 10  msl_pressure       320 non-null    int64  \n",
      " 11  prec_type          320 non-null    object \n",
      " 12  prec_amount        320 non-null    int64  \n",
      " 13  snow_depth         320 non-null    int64  \n",
      " 14  wind10m.direction  320 non-null    int64  \n",
      " 15  wind10m.speed      320 non-null    int64  \n",
      " 16  country            320 non-null    object \n",
      " 17  latitud            320 non-null    float64\n",
      " 18  longitud           320 non-null    float64\n",
      "dtypes: float64(2), int64(13), object(4)\n",
      "memory usage: 50.0+ KB\n"
     ]
    }
   ],
   "source": [
    "df_climas.info()"
   ]
  },
  {
   "cell_type": "code",
   "execution_count": 62,
   "metadata": {},
   "outputs": [],
   "source": [
    "tabla_clima = '''\n",
    "CREATE TABLE IF NOT EXISTS `tiburones`.`clima` (\n",
    "  `id_clima` INT NOT NULL AUTO_INCREMENT,\n",
    "  `timepoint` INT NOT NULL,\n",
    "  `cloudcover` INT NOT NULL,\n",
    "  `highcloud` INT NOT NULL,\n",
    "  `midcloud` INT NOT NULL,\n",
    "  `lowcloud` INT NOT NULL,\n",
    "  `rh_profile` VARCHAR (45) NOT NULL,\n",
    "  `wind_profile` VARCHAR (45) NOT NULL,\n",
    "  `temp2m` INT NOT NULL,\n",
    "  `lifted_index` INT NOT NULL,\n",
    "  `rh2m` INT NOT NULL,\n",
    "  `msl_pressure` INT NOT NULL,\n",
    "  `prec_type` VARCHAR (45) NOT NULL,\n",
    "  `prec_amount` INT NOT NULL,\n",
    "  `snow_depth` INT NOT NULL,\n",
    "  `wind10m.direction` INT NOT NULL,\n",
    "  `wind10m.speed` INT NOT NULL,\n",
    "  `country` VARCHAR (45) NOT NULL,\n",
    "  `latitud` DECIMAL NOT NULL,\n",
    "  `longitud` DECIMAL NOT NULL,\n",
    "  PRIMARY KEY (`id_clima`))\n",
    "ENGINE = InnoDB;\n",
    "'''"
   ]
  },
  {
   "cell_type": "code",
   "execution_count": 63,
   "metadata": {},
   "outputs": [],
   "source": [
    "crear_insertar_tabla(\"tiburones\", \"AlumnaAdalab\", tabla_ataques)"
   ]
  },
  {
   "cell_type": "code",
   "execution_count": 64,
   "metadata": {},
   "outputs": [],
   "source": [
    "crear_insertar_tabla(\"tiburones\", \"AlumnaAdalab\", tabla_clima)"
   ]
  },
  {
   "cell_type": "code",
   "execution_count": 65,
   "metadata": {},
   "outputs": [
    {
     "data": {
      "text/plain": [
       "Index(['year', 'type', 'country', 'activity', 'age', 'species_', 'mes',\n",
       "       'deceso', 'genero'],\n",
       "      dtype='object')"
      ]
     },
     "execution_count": 65,
     "metadata": {},
     "output_type": "execute_result"
    }
   ],
   "source": [
    "df_ataques.columns"
   ]
  },
  {
   "cell_type": "code",
   "execution_count": 68,
   "metadata": {},
   "outputs": [
    {
     "data": {
      "text/plain": [
       "year              2018\n",
       "type        Unprovoked\n",
       "country         brazil\n",
       "activity      Swimming\n",
       "age               18.0\n",
       "species_         Tiger\n",
       "mes                Jun\n",
       "deceso               Y\n",
       "genero               M\n",
       "Name: 1, dtype: object"
      ]
     },
     "execution_count": 68,
     "metadata": {},
     "output_type": "execute_result"
    }
   ],
   "source": [
    "df_ataques.iloc[1,:]"
   ]
  },
  {
   "cell_type": "code",
   "execution_count": 66,
   "metadata": {},
   "outputs": [
    {
     "name": "stdout",
     "output_type": "stream",
     "text": [
      "1064 (42000): You have an error in your SQL syntax; check the manual that corresponds to your MySQL server version for the right syntax to use near 'Jaws\"\", \"19.0\", \"White\", \"Nov\", \"N\", \"M\")' at line 2\n",
      "Error Code: 1064\n",
      "SQLSTATE 42000\n",
      "Message You have an error in your SQL syntax; check the manual that corresponds to your MySQL server version for the right syntax to use near 'Jaws\"\", \"19.0\", \"White\", \"Nov\", \"N\", \"M\")' at line 2\n",
      "1064 (42000): You have an error in your SQL syntax; check the manual that corresponds to your MySQL server version for the right syntax to use near 'the creature cast the man out of his throat.\"\", \"27.87\", \"Unspecified\", \"Unknow\"' at line 2\n",
      "Error Code: 1064\n",
      "SQLSTATE 42000\n",
      "Message You have an error in your SQL syntax; check the manual that corresponds to your MySQL server version for the right syntax to use near 'the creature cast the man out of his throat.\"\", \"27.87\", \"Unspecified\", \"Unknow\"' at line 2\n"
     ]
    }
   ],
   "source": [
    "for indice, fila in df_ataques.iterrows(): # iteramos por el dataframe.\n",
    "    \n",
    "    # definimos nuestra query, igual que si lo hicieramos en workbench. ⚠️ Como estamos definiendo nuestra query en varias líneas usamos las triples comillas\n",
    "    # lo valores que introduciremos serán los del dataframe que estamos iterando, por lo que usaremos los formats de los strings. \n",
    "    \n",
    "    query_ataques = f\"\"\"\n",
    "            INSERT INTO ataques (year, type, country, activity, age, species_, mes, deceso, genero)\n",
    "            VALUES ( \"{fila['year']}\", \"{fila['type']}\", \"{fila['country']}\", \"{fila['activity']}\", \"{fila['age']}\", \"{fila['species_']}\", \"{fila['mes']}\", \"{fila['deceso']}\", \"{fila['genero']}\");\n",
    "            \"\"\"\n",
    "    # una vez definida la query llamamos a la función que nos inserta los datos. \n",
    "    crear_insertar_tabla(\"tiburones\", \"AlumnaAdalab\", query_ataques)"
   ]
  }
 ],
 "metadata": {
  "kernelspec": {
   "display_name": "base",
   "language": "python",
   "name": "python3"
  },
  "language_info": {
   "codemirror_mode": {
    "name": "ipython",
    "version": 3
   },
   "file_extension": ".py",
   "mimetype": "text/x-python",
   "name": "python",
   "nbconvert_exporter": "python",
   "pygments_lexer": "ipython3",
   "version": "3.9.12"
  },
  "orig_nbformat": 4,
  "vscode": {
   "interpreter": {
    "hash": "8be240dc937e61b542e412c89351978950720d3fde5a0c37c158fb19f149fb89"
   }
  }
 },
 "nbformat": 4,
 "nbformat_minor": 2
}
