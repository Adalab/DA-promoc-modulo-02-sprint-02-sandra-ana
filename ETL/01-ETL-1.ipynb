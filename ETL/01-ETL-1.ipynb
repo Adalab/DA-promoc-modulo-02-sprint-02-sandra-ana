{
 "cells": [
  {
   "cell_type": "code",
   "execution_count": 2,
   "metadata": {},
   "outputs": [],
   "source": [
    "from IPython.core.interactiveshell import InteractiveShell # Nos permite mostar más de una salida por celda\n",
    "InteractiveShell.ast_node_interactivity = \"all\" # Nos permite mostar más de una salida por celda\n",
    "import requests\n",
    "import pandas as pd\n",
    "import numpy as np"
   ]
  },
  {
   "attachments": {},
   "cell_type": "markdown",
   "metadata": {},
   "source": [
    "# Pair Programming ETL I\n",
    "Vamos a nutrir los datos de los ataques de los tiburones con información climática de los paises que tenemos. Para eso vamos a usar la API del clima que hemos aprendido en la clase invertida:"
   ]
  },
  {
   "cell_type": "code",
   "execution_count": null,
   "metadata": {},
   "outputs": [],
   "source": [
    "url = f'http://www.7timer.info/bin/api.pl?lon=-{lon}&lat={lat}&product={producto}&output=json'"
   ]
  },
  {
   "attachments": {},
   "cell_type": "markdown",
   "metadata": {},
   "source": [
    "En este caso os recomendamos que uséis el producto meteo para obtener la información climática. Para hacer la llamada a la API necesitamos también las coordenadas de los paises que tenemos en el dataset.\n",
    "\n",
    "\n",
    "Por lo tanto, el objetivo es que saquéis la información del clima de la API para los paises que tenemos. Pero antes de poneros manos a la obra, tenemos muchísimos países y esto puede hacerse eterno. Sacad la información climática solo para los siguientes países, con las siguientes coordenadas:"
   ]
  },
  {
   "attachments": {},
   "cell_type": "markdown",
   "metadata": {},
   "source": [
    "Requisitos de este ejercicio de pair programming:\n",
    "\n",
    "- Deberéis meter toda la información climática en un único dataframe.\n",
    "- Deberéis hacer la llamada a la API de una sola vez. Es decir, tendréis que iterar por la lista de países y sacar la información del clima para cada uno de ellos.\n",
    "- Al meter toda la información en un único dataframe tendremos que crear una columna que corresponda con el nombre del país.\n",
    "- Guardar el dataframe obtenido para usarlo en la siguiente sesión de pair programming.\n",
    "\n",
    "💡 Pistas 💡:\n",
    "- Crearos un diccionario donde:\n",
    "    -   Las keys sean los nombres de los paises\n",
    "    -   Los values sean las coordenadas de los paises en formato lista.\n",
    "\n",
    "- Iterar por el diccionario. Dentro del for haremos la llamada a la API como hemos aprendido en las clases invertidas. Recordamos que para iterar por el diccionario tenemos que seguir la siguiente estructura:\n",
    "for key, value in diccionario.items():\n",
    "    print(key, value)\n",
    "\n",
    "- Crearnos un dataframe vacío donde iremos concatenando los datos obtenidos de la API cada país.\n",
    "Guardad el csv ya que mañana lo necesitaremos para hacer el ejercicio de pair programming."
   ]
  },
  {
   "cell_type": "code",
   "execution_count": 3,
   "metadata": {},
   "outputs": [],
   "source": [
    "# Creamos un diccionario con la latitud y longitud de los paises:                         \n",
    "                        # Pais : [Latitud, Longitud]\n",
    "paises_coordenadas = {\"USA\": [39.7837304, -100.445882], \n",
    "                        \"Australia\": [-24.7761086, 134.755], \n",
    "                        \"South Africa\": [-28.8166236, 24.991639], \n",
    "                        \"New Zealand\": [-41.5000831, 172.8344077], \n",
    "                        \"Papua New Guinea\": [-5.6816069, 144.2489081]}"
   ]
  },
  {
   "cell_type": "code",
   "execution_count": 9,
   "metadata": {},
   "outputs": [],
   "source": [
    "def llamada_API(dicc, producto, datafr):\n",
    "#Iteramos por el diccionario en busca de nuestros valores\n",
    "    for k, v in dicc.items():\n",
    "        lat = v[0]\n",
    "        lon = v[1]\n",
    "    \n",
    "    # hacemos la llamada  a la API\n",
    "        url = f'http://www.7timer.info/bin/api.pl?lon=-{lon}&lat={lat}&product={producto}&output=json'\n",
    "        response = requests.get(url=url)\n",
    "        codigo_estado = response.status_code\n",
    "        razon_estado = response.reason\n",
    "    # Ponemos esto para comprobar si todo está correcto.    \n",
    "        if codigo_estado == 200:\n",
    "            print('La peticion de se ha realizado correctamente, se ha devuelto el código de estado:',codigo_estado,' y como razón del código de estado: ',razon_estado)\n",
    "        elif codigo_estado == 402:\n",
    "            print('No se ha podido autorizar usuario, se ha devuelto el código de estado:', codigo_estado,' y como razón del código de estado: ',razon_estado)\n",
    "        elif codigo_estado == 404:\n",
    "            print('Algo ha salido mal, el recurso no se ha encontrado,se ha devuelto el código de estado:', codigo_estado,' y como razón del código de estado: ',razon_estado)\n",
    "        else:\n",
    "            print('Algo inesperado ha ocurrido, se ha devuelto el código de estado:', codigo_estado,' y como razón del código de estado: ',razon_estado)\n",
    "        \n",
    "     # convertimos los resultados en un dataframe:\n",
    "        df = pd.DataFrame.from_dict(pd.json_normalize(response.json()['dataseries']))\n",
    "    # Creamos una nueva columna con el nombre del pais para poder hacer la union.\n",
    "        df[\"Pais\"] = k\n",
    "    #hacemos la union con el df anterior\n",
    "        df_final = pd.merge(df , datafr, on='Pais', how = \"left\")\n",
    "    \n",
    "    return df_final"
   ]
  },
  {
   "cell_type": "code",
   "execution_count": 10,
   "metadata": {},
   "outputs": [
    {
     "data": {
      "text/html": [
       "<div>\n",
       "<style scoped>\n",
       "    .dataframe tbody tr th:only-of-type {\n",
       "        vertical-align: middle;\n",
       "    }\n",
       "\n",
       "    .dataframe tbody tr th {\n",
       "        vertical-align: top;\n",
       "    }\n",
       "\n",
       "    .dataframe thead th {\n",
       "        text-align: right;\n",
       "    }\n",
       "</style>\n",
       "<table border=\"1\" class=\"dataframe\">\n",
       "  <thead>\n",
       "    <tr style=\"text-align: right;\">\n",
       "      <th></th>\n",
       "      <th>Pais</th>\n",
       "      <th>Latitud</th>\n",
       "      <th>Longitud</th>\n",
       "    </tr>\n",
       "  </thead>\n",
       "  <tbody>\n",
       "    <tr>\n",
       "      <th>0</th>\n",
       "      <td>USA</td>\n",
       "      <td>39.783730</td>\n",
       "      <td>-100.445882</td>\n",
       "    </tr>\n",
       "    <tr>\n",
       "      <th>1</th>\n",
       "      <td>Australia</td>\n",
       "      <td>-24.776109</td>\n",
       "      <td>134.755000</td>\n",
       "    </tr>\n",
       "    <tr>\n",
       "      <th>2</th>\n",
       "      <td>South Africa</td>\n",
       "      <td>-28.816624</td>\n",
       "      <td>24.991639</td>\n",
       "    </tr>\n",
       "    <tr>\n",
       "      <th>3</th>\n",
       "      <td>New Zealand</td>\n",
       "      <td>-41.500083</td>\n",
       "      <td>172.834408</td>\n",
       "    </tr>\n",
       "    <tr>\n",
       "      <th>4</th>\n",
       "      <td>Papua New Guinea</td>\n",
       "      <td>-5.681607</td>\n",
       "      <td>144.248908</td>\n",
       "    </tr>\n",
       "  </tbody>\n",
       "</table>\n",
       "</div>"
      ],
      "text/plain": [
       "               Pais    Latitud    Longitud\n",
       "0               USA  39.783730 -100.445882\n",
       "1         Australia -24.776109  134.755000\n",
       "2      South Africa -28.816624   24.991639\n",
       "3       New Zealand -41.500083  172.834408\n",
       "4  Papua New Guinea  -5.681607  144.248908"
      ]
     },
     "execution_count": 10,
     "metadata": {},
     "output_type": "execute_result"
    }
   ],
   "source": [
    "#con el diccionario que teniamos creamos un df y le resetemos el indice\n",
    "df_paises_tiempo = pd.DataFrame.from_dict(paises_coordenadas).T.reset_index()\n",
    "df_paises_tiempo.rename(columns = {\"index\" : \"Pais\", 0: \"Latitud\", 1: \"Longitud\"}, inplace= True)\n",
    "df_paises_tiempo"
   ]
  },
  {
   "cell_type": "code",
   "execution_count": 16,
   "metadata": {},
   "outputs": [
    {
     "name": "stdout",
     "output_type": "stream",
     "text": [
      "La peticion de se ha realizado correctamente, se ha devuelto el código de estado: 200  y como razón del código de estado:  OK\n",
      "La peticion de se ha realizado correctamente, se ha devuelto el código de estado: 200  y como razón del código de estado:  OK\n",
      "La peticion de se ha realizado correctamente, se ha devuelto el código de estado: 200  y como razón del código de estado:  OK\n",
      "La peticion de se ha realizado correctamente, se ha devuelto el código de estado: 200  y como razón del código de estado:  OK\n",
      "La peticion de se ha realizado correctamente, se ha devuelto el código de estado: 200  y como razón del código de estado:  OK\n"
     ]
    },
    {
     "data": {
      "text/html": [
       "<div>\n",
       "<style scoped>\n",
       "    .dataframe tbody tr th:only-of-type {\n",
       "        vertical-align: middle;\n",
       "    }\n",
       "\n",
       "    .dataframe tbody tr th {\n",
       "        vertical-align: top;\n",
       "    }\n",
       "\n",
       "    .dataframe thead th {\n",
       "        text-align: right;\n",
       "    }\n",
       "</style>\n",
       "<table border=\"1\" class=\"dataframe\">\n",
       "  <thead>\n",
       "    <tr style=\"text-align: right;\">\n",
       "      <th></th>\n",
       "      <th>timepoint</th>\n",
       "      <th>cloudcover</th>\n",
       "      <th>highcloud</th>\n",
       "      <th>midcloud</th>\n",
       "      <th>lowcloud</th>\n",
       "      <th>rh_profile</th>\n",
       "      <th>wind_profile</th>\n",
       "      <th>temp2m</th>\n",
       "      <th>lifted_index</th>\n",
       "      <th>rh2m</th>\n",
       "      <th>msl_pressure</th>\n",
       "      <th>prec_type</th>\n",
       "      <th>prec_amount</th>\n",
       "      <th>snow_depth</th>\n",
       "      <th>wind10m.direction</th>\n",
       "      <th>wind10m.speed</th>\n",
       "      <th>Pais</th>\n",
       "      <th>Latitud</th>\n",
       "      <th>Longitud</th>\n",
       "    </tr>\n",
       "  </thead>\n",
       "  <tbody>\n",
       "    <tr>\n",
       "      <th>24</th>\n",
       "      <td>75</td>\n",
       "      <td>1</td>\n",
       "      <td>-9999</td>\n",
       "      <td>-9999</td>\n",
       "      <td>-9999</td>\n",
       "      <td>[{'layer': '950mb', 'rh': 14}, {'layer': '900m...</td>\n",
       "      <td>[{'layer': '950mb', 'direction': 80, 'speed': ...</td>\n",
       "      <td>26</td>\n",
       "      <td>2</td>\n",
       "      <td>12</td>\n",
       "      <td>1008</td>\n",
       "      <td>rain</td>\n",
       "      <td>2</td>\n",
       "      <td>0</td>\n",
       "      <td>90</td>\n",
       "      <td>3</td>\n",
       "      <td>Papua New Guinea</td>\n",
       "      <td>-5.681607</td>\n",
       "      <td>144.248908</td>\n",
       "    </tr>\n",
       "    <tr>\n",
       "      <th>26</th>\n",
       "      <td>81</td>\n",
       "      <td>4</td>\n",
       "      <td>-9999</td>\n",
       "      <td>-9999</td>\n",
       "      <td>-9999</td>\n",
       "      <td>[{'layer': '950mb', 'rh': 13}, {'layer': '900m...</td>\n",
       "      <td>[{'layer': '950mb', 'direction': 90, 'speed': ...</td>\n",
       "      <td>26</td>\n",
       "      <td>2</td>\n",
       "      <td>12</td>\n",
       "      <td>1010</td>\n",
       "      <td>none</td>\n",
       "      <td>2</td>\n",
       "      <td>0</td>\n",
       "      <td>80</td>\n",
       "      <td>3</td>\n",
       "      <td>Papua New Guinea</td>\n",
       "      <td>-5.681607</td>\n",
       "      <td>144.248908</td>\n",
       "    </tr>\n",
       "  </tbody>\n",
       "</table>\n",
       "</div>"
      ],
      "text/plain": [
       "    timepoint  cloudcover  highcloud  midcloud  lowcloud  \\\n",
       "24         75           1      -9999     -9999     -9999   \n",
       "26         81           4      -9999     -9999     -9999   \n",
       "\n",
       "                                           rh_profile  \\\n",
       "24  [{'layer': '950mb', 'rh': 14}, {'layer': '900m...   \n",
       "26  [{'layer': '950mb', 'rh': 13}, {'layer': '900m...   \n",
       "\n",
       "                                         wind_profile  temp2m  lifted_index  \\\n",
       "24  [{'layer': '950mb', 'direction': 80, 'speed': ...      26             2   \n",
       "26  [{'layer': '950mb', 'direction': 90, 'speed': ...      26             2   \n",
       "\n",
       "    rh2m  msl_pressure prec_type  prec_amount  snow_depth wind10m.direction  \\\n",
       "24    12          1008      rain            2           0                90   \n",
       "26    12          1010      none            2           0                80   \n",
       "\n",
       "    wind10m.speed              Pais   Latitud    Longitud  \n",
       "24              3  Papua New Guinea -5.681607  144.248908  \n",
       "26              3  Papua New Guinea -5.681607  144.248908  "
      ]
     },
     "execution_count": 16,
     "metadata": {},
     "output_type": "execute_result"
    }
   ],
   "source": [
    "df = llamada_API( paises_coordenadas, 'meteo', df_paises_tiempo)\n",
    "df.sample(2)"
   ]
  },
  {
   "cell_type": "code",
   "execution_count": 15,
   "metadata": {},
   "outputs": [
    {
     "data": {
      "text/plain": [
       "timepoint            0\n",
       "cloudcover           0\n",
       "highcloud            0\n",
       "midcloud             0\n",
       "lowcloud             0\n",
       "rh_profile           0\n",
       "wind_profile         0\n",
       "temp2m               0\n",
       "lifted_index         0\n",
       "rh2m                 0\n",
       "msl_pressure         0\n",
       "prec_type            0\n",
       "prec_amount          0\n",
       "snow_depth           0\n",
       "wind10m.direction    0\n",
       "wind10m.speed        0\n",
       "Pais                 0\n",
       "Latitud              0\n",
       "Longitud             0\n",
       "dtype: int64"
      ]
     },
     "execution_count": 15,
     "metadata": {},
     "output_type": "execute_result"
    }
   ],
   "source": [
    "df.isnull().sum()"
   ]
  },
  {
   "cell_type": "code",
   "execution_count": 17,
   "metadata": {},
   "outputs": [],
   "source": [
    "df.to_csv(\"../data/00-datos_clima.csv\")"
   ]
  },
  {
   "cell_type": "code",
   "execution_count": 18,
   "metadata": {},
   "outputs": [],
   "source": [
    "df.to_pickle('../data/00-datos-clima.pkl')"
   ]
  }
 ],
 "metadata": {
  "kernelspec": {
   "display_name": "base",
   "language": "python",
   "name": "python3"
  },
  "language_info": {
   "codemirror_mode": {
    "name": "ipython",
    "version": 3
   },
   "file_extension": ".py",
   "mimetype": "text/x-python",
   "name": "python",
   "nbconvert_exporter": "python",
   "pygments_lexer": "ipython3",
   "version": "3.9.7"
  },
  "orig_nbformat": 4,
  "vscode": {
   "interpreter": {
    "hash": "f8e782a3a92a384869fb83a8974812ed4d4d199ed3e8c8704ecd8a7536d7fad4"
   }
  }
 },
 "nbformat": 4,
 "nbformat_minor": 2
}
